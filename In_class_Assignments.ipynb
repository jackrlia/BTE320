{
  "nbformat": 4,
  "nbformat_minor": 0,
  "metadata": {
    "colab": {
      "provenance": [],
      "authorship_tag": "ABX9TyO85NB/dOSwZhGf8sTBpxlc",
      "include_colab_link": true
    },
    "kernelspec": {
      "name": "python3",
      "display_name": "Python 3"
    },
    "language_info": {
      "name": "python"
    }
  },
  "cells": [
    {
      "cell_type": "markdown",
      "metadata": {
        "id": "view-in-github",
        "colab_type": "text"
      },
      "source": [
        "<a href=\"https://colab.research.google.com/github/jackrlia/BTE320/blob/main/In_class_Assignments.ipynb\" target=\"_parent\"><img src=\"https://colab.research.google.com/assets/colab-badge.svg\" alt=\"Open In Colab\"/></a>"
      ]
    },
    {
      "cell_type": "markdown",
      "source": [
        "Income statement:"
      ],
      "metadata": {
        "id": "gnHAkspLLs1h"
      }
    },
    {
      "cell_type": "code",
      "source": [
        "\n",
        "# Inputs: sales, cogs_pct and tax rate\n",
        "sales = input(\"Enter sales ($): \")\n",
        "sales = float(sales)\n",
        "\n",
        "cogs_pct = input(\"Enter Cost of Goods sold (%): \")\n",
        "cogs_pct = float(cogs_pct)\n",
        "\n",
        "rate = input(\"Enter tax rate (%): \")\n",
        "rate = float(rate)\n",
        "\n",
        "# Processes: calculate actual cost of goods sold, taxes and net income\n",
        "cogs = sales * cogs_pct / 100\n",
        "grossProfit = sales - cogs\n",
        "taxes = grossProfit * (rate / 100)\n",
        "netIncome = grossProfit - taxes\n",
        "\n",
        "#Outputs: display cogs and grossProfit\n",
        "print(f\"Cost of Goods sold: ${cogs}\\nGross Profit: ${grossProfit}\\nTaxes: ${taxes}\\nNet Income: ${netIncome}\")\n",
        "#print(f\"Gross Profit: ${grossProfit}\")\n",
        "\n"
      ],
      "metadata": {
        "colab": {
          "base_uri": "https://localhost:8080/"
        },
        "id": "H0kIhYTBLq4f",
        "outputId": "fd3f0e1f-211e-4589-837b-f52d0aee2edf"
      },
      "execution_count": 4,
      "outputs": [
        {
          "output_type": "stream",
          "name": "stdout",
          "text": [
            "Enter sales ($): 100\n",
            "Enter Cost of Goods sold (%): 40\n",
            "Enter tax rate (%): 6\n",
            "Cost of Goods sold: $40.0\n",
            "Gross Profit: $60.0\n",
            "Taxes: $3.5999999999999996\n",
            "Net Income: $56.4\n"
          ]
        }
      ]
    },
    {
      "cell_type": "markdown",
      "source": [
        "Optimal Order Quantity Calculation:"
      ],
      "metadata": {
        "id": "xSbHOILZLyfE"
      }
    },
    {
      "cell_type": "code",
      "source": [
        "# Calculate EOQ\n",
        "\n",
        "#Inputs: demand, reorder cost, holding cost\n",
        "demand = float(input(\"Enter the projected demand (units/year): \"))\n",
        "reorderCost = float(input(\"Enter the reorder cost ($/order): \"))\n",
        "holdingCost = float(input(\"Enter the holding cost ($/year/unit): \"))\n",
        "\n",
        "#Process: calculate EOQ\n",
        "eoq = (2 * demand * reorderCost / holdingCost) ** 0.5\n",
        "\n",
        "#Output: display EOQ value\n",
        "print(f\"Economic Order Quantity: {eoq}\")"
      ],
      "metadata": {
        "colab": {
          "base_uri": "https://localhost:8080/"
        },
        "id": "V1iMq8KBL0BU",
        "outputId": "e3928b79-ce5a-453f-dc50-3dbb7a5031e4"
      },
      "execution_count": 5,
      "outputs": [
        {
          "output_type": "stream",
          "name": "stdout",
          "text": [
            "Enter the projected demand (units/year): 100\n",
            "Enter the reorder cost ($/order): 5\n",
            "Enter the holding cost ($/year/unit): 40\n",
            "Economic Order Quantity: 5.0\n"
          ]
        }
      ]
    },
    {
      "cell_type": "markdown",
      "source": [
        "Design a simple numerical calculator in Python. 3 inputs required: two numbers and the mathematical operator of their choice. The program should print the output on the screen"
      ],
      "metadata": {
        "id": "hTT-aW5v_sPb"
      }
    },
    {
      "cell_type": "code",
      "source": [
        "x=float(input(\"Enter 1st number: \"))\n",
        "operator=input(\"Enter an operator: \")\n",
        "y=float(input(\"Enter 2nd number: \"))\n",
        "if operator == \"+\":\n",
        "  print(f\"{x} {operator} {y} = {x+y}\")\n",
        "elif operator == \"-\":\n",
        "  print(f\"{x} {operator} {y} = {x-y}\")\n",
        "elif operator == \"*\":\n",
        "  print(f\"{x} {operator} {y} = {x*y}\")\n",
        "elif operator == \"/\":\n",
        "  print(f\"{x} {operator} {y} = {x/y}\")\n",
        "elif operator == \"%\":\n",
        "  print(f\"{x} {operator} {y} = {x%y}\")\n",
        "elif operator == \"**\":\n",
        "  print(f\"{x} {operator} {y} = {x**y}\")\n",
        "else:\n",
        "  print(\"Invalid operator\")"
      ],
      "metadata": {
        "colab": {
          "base_uri": "https://localhost:8080/"
        },
        "id": "ILeP2X9G_pOt",
        "outputId": "d10c64c8-065a-4edd-e1f9-329f59bf8773"
      },
      "execution_count": 8,
      "outputs": [
        {
          "output_type": "stream",
          "name": "stdout",
          "text": [
            "Enter 1st number: 10\n",
            "Enter an operator: -\n",
            "Enter 2nd number: 6\n",
            "10.0 - 6.0 = 4.0\n"
          ]
        }
      ]
    },
    {
      "cell_type": "markdown",
      "source": [
        "Parking Garage:"
      ],
      "metadata": {
        "id": "hqXYoGzkMOIx"
      }
    },
    {
      "cell_type": "code",
      "source": [
        "# Parking garage\n",
        "print(\"# of hours\\tFee ($)\")\n",
        "print(\"--------------------\")\n",
        "for hours in range(1, 9):\n",
        "   fee = 5 + hours * 2.5\n",
        "   if fee < 10:\n",
        "    fee = 10.0\n",
        "    print(f\"{hours}\\t\\t{fee}\")\n",
        "   elif fee > 20:\n",
        "    fee = 20.0\n",
        "    print(f\"{hours}\\t\\t{fee}\")\n",
        "   else:\n",
        "    print(f\"{hours}\\t\\t{fee}\")\n"
      ],
      "metadata": {
        "colab": {
          "base_uri": "https://localhost:8080/"
        },
        "id": "OK5Z2TAYMIlB",
        "outputId": "d9743564-a0ca-47f0-86eb-800af20d6ef9"
      },
      "execution_count": 9,
      "outputs": [
        {
          "output_type": "stream",
          "name": "stdout",
          "text": [
            "# of hours\tFee ($)\n",
            "--------------------\n",
            "1\t\t10.0\n",
            "2\t\t10.0\n",
            "3\t\t12.5\n",
            "4\t\t15.0\n",
            "5\t\t17.5\n",
            "6\t\t20.0\n",
            "7\t\t20.0\n",
            "8\t\t20.0\n"
          ]
        }
      ]
    },
    {
      "cell_type": "markdown",
      "source": [
        "Movie Theater Manager (For/While loop)\n",
        "A manager of a movie theater is deciding how much to spend on advertising for an upcoming movie. Each ticket is $10. Without any advertising, 20 people are forecasted to attend. Additional people may attend based on advertising spending, estimated to be:\n",
        "  \n",
        "*   Additional Attendees = 2 x advertisingDollars^1/2\n",
        "\n",
        "In addition to advertising costs, there are fixed costs to run the teater of 200\n",
        "Write a program to generate a table for different advertising amounts and profits. Example output (may differ slightly from your results):\n",
        "\n",
        "*   Ad$ Profit\n",
        "*   0.0 0.0\n",
        "* 25.0 75.0\n",
        "* 50.0 90.0\n",
        "* 75.0 105.0\n",
        "* 100.0 100.0\n",
        "* 125.0 95.0\n",
        "* 150.0 90.0\n",
        "* 175.0 85.0\n",
        "* 200.0 80.0\n",
        "\n",
        "\n"
      ],
      "metadata": {
        "id": "K6fTHCRGszbT"
      }
    },
    {
      "cell_type": "code",
      "execution_count": 3,
      "metadata": {
        "colab": {
          "base_uri": "https://localhost:8080/"
        },
        "id": "yMRq7iPOsuHf",
        "outputId": "9a8b0cbc-6cc5-4c03-bde7-626218ed4d6f"
      },
      "outputs": [
        {
          "output_type": "stream",
          "name": "stdout",
          "text": [
            "0,\t 0.0\n",
            "25,\t 75.0\n",
            "50,\t 91.4\n",
            "75,\t 98.2\n",
            "100,\t 100.0\n",
            "125,\t 98.6\n",
            "150,\t 94.9\n",
            "175,\t 89.6\n",
            "200,\t 82.8\n"
          ]
        }
      ],
      "source": [
        "for ad in range(0, 201, 25):\n",
        "   revenue = (20+2*ad**0.5)*10\n",
        "   costs = 200+ad\n",
        "   profit = revenue-costs\n",
        "   print(f\"{ad},\\t {round(profit,1)}\")\n"
      ]
    },
    {
      "cell_type": "markdown",
      "source": [
        "Append items to list iteratively (while loop)\n",
        "\n",
        "*   Starting with an empty list, design a program in Python that populates the list by repeatedly asking the user for numerical inputs. the process stops when the user gives 0. Finally, the list should be displayed in descending order"
      ],
      "metadata": {
        "id": "3FCB8ihyOF4v"
      }
    },
    {
      "cell_type": "code",
      "source": [
        "list=[] #create the list\n",
        "\n",
        "while True: #while loop until 0 is added\n",
        "  num = int(input(\"Enter a numerical digit: \")) #numerical inputs inserted by user\n",
        "  if num == 0: #if 0, stop\n",
        "    break\n",
        "  list.append(num) #assuming not 0, add input to list\n",
        "\n",
        "list.sort(reverse=True) #sort list in descending order\n",
        "\n",
        "print(\"Numbers in descending order:\", list) #print list7\n",
        "6"
      ],
      "metadata": {
        "colab": {
          "base_uri": "https://localhost:8080/"
        },
        "id": "SeO7qjWvOGnN",
        "outputId": "20232ec0-2393-4721-f687-8c38ac56483c"
      },
      "execution_count": 13,
      "outputs": [
        {
          "output_type": "stream",
          "name": "stdout",
          "text": [
            "Enter a numerical digit: 6\n",
            "Enter a numerical digit: 7\n",
            "Enter a numerical digit: 4\n",
            "Enter a numerical digit: 3\n",
            "Enter a numerical digit: 2\n",
            "Enter a numerical digit: 5\n",
            "Enter a numerical digit: 6\n",
            "Enter a numerical digit: 0\n",
            "Numbers in descending order: [7, 6, 6, 5, 4, 3, 2]\n"
          ]
        },
        {
          "output_type": "execute_result",
          "data": {
            "text/plain": [
              "6"
            ]
          },
          "metadata": {},
          "execution_count": 13
        }
      ]
    }
  ]
}