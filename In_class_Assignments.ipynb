{
  "nbformat": 4,
  "nbformat_minor": 0,
  "metadata": {
    "colab": {
      "provenance": [],
      "authorship_tag": "ABX9TyOL74+MDQ3NfUZgQ8Zj5tpo",
      "include_colab_link": true
    },
    "kernelspec": {
      "name": "python3",
      "display_name": "Python 3"
    },
    "language_info": {
      "name": "python"
    }
  },
  "cells": [
    {
      "cell_type": "markdown",
      "metadata": {
        "id": "view-in-github",
        "colab_type": "text"
      },
      "source": [
        "<a href=\"https://colab.research.google.com/github/jackrlia/BTE320/blob/main/In_class_Assignments.ipynb\" target=\"_parent\"><img src=\"https://colab.research.google.com/assets/colab-badge.svg\" alt=\"Open In Colab\"/></a>"
      ]
    },
    {
      "cell_type": "markdown",
      "source": [
        "Design a simple numerical calculator in Python. 3 inputs required: two numbers and the mathematical operator of their choice. The program should print the output on the screen"
      ],
      "metadata": {
        "id": "hTT-aW5v_sPb"
      }
    },
    {
      "cell_type": "code",
      "source": [
        "x=float(input(\"Enter 1st number: \"))\n",
        "operator=input(\"Enter an operator: \")\n",
        "y=float(input(\"Enter 2nd number: \"))\n",
        "if operator == \"+\":\n",
        "  print(f\"{x} {operator} {y} = {x+y}\")\n",
        "elif operator == \"-\":\n",
        "  print(f\"{x} {operator} {y} = {x-y}\")\n",
        "elif operator == \"*\":\n",
        "  print(f\"{x} {operator} {y} = {x*y}\")\n",
        "elif operator == \"/\":\n",
        "  print(f\"{x} {operator} {y} = {x/y}\")\n",
        "elif operator == \"%\":\n",
        "  print(f\"{x} {operator} {y} = {x%y}\")\n",
        "elif operator == \"**\":\n",
        "  print(f\"{x} {operator} {y} = {x**y}\")\n",
        "else:\n",
        "  print(\"Invalid operator\")"
      ],
      "metadata": {
        "colab": {
          "base_uri": "https://localhost:8080/"
        },
        "id": "ILeP2X9G_pOt",
        "outputId": "be74ea8e-7f8d-4c26-cc25-07c2146b693b"
      },
      "execution_count": 1,
      "outputs": [
        {
          "output_type": "stream",
          "name": "stdout",
          "text": [
            "Enter 1st number: 1\n",
            "Enter an operator: -\n",
            "Enter 2nd number: 4\n",
            "1.0 - 4.0 = -3.0\n"
          ]
        }
      ]
    },
    {
      "cell_type": "markdown",
      "source": [
        "Movie Theater Manager (For/While loop)\n",
        "A manager of a movie theater is deciding how much to spend on advertising for an upcoming movie. Each ticket is $10. Without any advertising, 20 people are forecasted to attend. Additional people may attend based on advertising spending, estimated to be:\n",
        "  \n",
        "*   Additional Attendees = 2 x advertisingDollars^1/2\n",
        "\n",
        "In addition to advertising costs, there are fixed costs to run the teater of 200\n",
        "Write a program to generate a table for different advertising amounts and profits. Example output (may differ slightly from your results):\n",
        "\n",
        "*   Ad$ Profit\n",
        "*   0.0 0.0\n",
        "* 25.0 75.0\n",
        "* 50.0 90.0\n",
        "* 75.0 105.0\n",
        "* 100.0 100.0\n",
        "* 125.0 95.0\n",
        "* 150.0 90.0\n",
        "* 175.0 85.0\n",
        "* 200.0 80.0\n",
        "\n",
        "\n"
      ],
      "metadata": {
        "id": "K6fTHCRGszbT"
      }
    },
    {
      "cell_type": "code",
      "execution_count": 3,
      "metadata": {
        "colab": {
          "base_uri": "https://localhost:8080/"
        },
        "id": "yMRq7iPOsuHf",
        "outputId": "9a8b0cbc-6cc5-4c03-bde7-626218ed4d6f"
      },
      "outputs": [
        {
          "output_type": "stream",
          "name": "stdout",
          "text": [
            "0,\t 0.0\n",
            "25,\t 75.0\n",
            "50,\t 91.4\n",
            "75,\t 98.2\n",
            "100,\t 100.0\n",
            "125,\t 98.6\n",
            "150,\t 94.9\n",
            "175,\t 89.6\n",
            "200,\t 82.8\n"
          ]
        }
      ],
      "source": [
        "for ad in range(0, 201, 25):\n",
        "   revenue = (20+2*ad**0.5)*10\n",
        "   costs = 200+ad\n",
        "   profit = revenue-costs\n",
        "   print(f\"{ad},\\t {round(profit,1)}\")\n"
      ]
    }
  ]
}